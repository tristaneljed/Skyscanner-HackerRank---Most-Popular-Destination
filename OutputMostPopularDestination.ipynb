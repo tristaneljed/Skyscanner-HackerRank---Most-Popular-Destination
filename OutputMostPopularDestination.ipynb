{
 "cells": [
  {
   "cell_type": "code",
   "execution_count": 13,
   "metadata": {
    "collapsed": true
   },
   "outputs": [],
   "source": [
    "import operator\n",
    "import sys\n",
    "from collections import Counter\n",
    "\n",
    "def OutputMostPopularDestination(count):\n",
    "\n",
    "\tmyList = list()\n",
    "\ti = count\n",
    "\t\n",
    "\twhile i > 0:\n",
    "\t\ttmpData = input()\n",
    "\t\tmyList.append(tmpData)\n",
    "\t\ti = i - 1\n",
    "\t\t\n",
    "\tc = Counter(myList)\n",
    "\tprint (\"Most Popular Destination: \", c.most_common(1)[0][0])"
   ]
  },
  {
   "cell_type": "code",
   "execution_count": 14,
   "metadata": {
    "collapsed": false
   },
   "outputs": [
    {
     "name": "stdout",
     "output_type": "stream",
     "text": [
      "5\n",
      "Singapore\n",
      "Bangkok\n",
      "Singapore\n",
      "Bangkok\n",
      "Singapore\n",
      "Most Popular Destination:  Singapore\n"
     ]
    }
   ],
   "source": [
    "count = int(input())\n",
    "OutputMostPopularDestination(count)"
   ]
  },
  {
   "cell_type": "code",
   "execution_count": 15,
   "metadata": {
    "collapsed": false
   },
   "outputs": [
    {
     "name": "stdout",
     "output_type": "stream",
     "text": [
      "6\n",
      "Barcelona\n",
      "Edinburgh\n",
      "Barcelona\n",
      "Miami\n",
      "Miami\n",
      "Barcelona\n",
      "Most Popular Destination:  Barcelona\n"
     ]
    }
   ],
   "source": [
    "count = int(input())\n",
    "OutputMostPopularDestination(count)"
   ]
  },
  {
   "cell_type": "code",
   "execution_count": null,
   "metadata": {
    "collapsed": true
   },
   "outputs": [],
   "source": []
  }
 ],
 "metadata": {
  "kernelspec": {
   "display_name": "Python 3",
   "language": "python",
   "name": "python3"
  },
  "language_info": {
   "codemirror_mode": {
    "name": "ipython",
    "version": 3
   },
   "file_extension": ".py",
   "mimetype": "text/x-python",
   "name": "python",
   "nbconvert_exporter": "python",
   "pygments_lexer": "ipython3",
   "version": "3.6.0"
  }
 },
 "nbformat": 4,
 "nbformat_minor": 2
}
